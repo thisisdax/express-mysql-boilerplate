{
 "cells": [
  {
   "cell_type": "code",
<<<<<<< HEAD
   "execution_count": 12,
=======
   "execution_count": 19,
>>>>>>> 9a8af5e76c85d3b4bf1736bbc1b8935f8641847b
   "metadata": {},
   "outputs": [
    {
     "name": "stdout",
     "output_type": "stream",
     "text": [
<<<<<<< HEAD
      "Requirement already satisfied: mysql-connector-python-rf in /Applications/anaconda3/lib/python3.6/site-packages\n",
      "\u001b[33mYou are using pip version 9.0.1, however version 19.2.3 is available.\n",
=======
      "Requirement already satisfied: mysql-connector-python-rf in /anaconda3/lib/python3.6/site-packages (2.2.2)\n",
      "\u001b[33mYou are using pip version 18.1, however version 19.2.3 is available.\n",
>>>>>>> 9a8af5e76c85d3b4bf1736bbc1b8935f8641847b
      "You should consider upgrading via the 'pip install --upgrade pip' command.\u001b[0m\n"
     ]
    }
   ],
   "source": [
    "!pip install mysql-connector-python-rf"
   ]
  },
  {
   "cell_type": "code",
<<<<<<< HEAD
   "execution_count": 13,
=======
   "execution_count": 20,
>>>>>>> 9a8af5e76c85d3b4bf1736bbc1b8935f8641847b
   "metadata": {},
   "outputs": [],
   "source": [
    "import pandas as pd"
   ]
  },
  {
   "cell_type": "code",
<<<<<<< HEAD
   "execution_count": 14,
=======
   "execution_count": 21,
>>>>>>> 9a8af5e76c85d3b4bf1736bbc1b8935f8641847b
   "metadata": {},
   "outputs": [],
   "source": [
    "test = pd.read_csv(\"user_final.csv\")"
   ]
  },
  {
   "cell_type": "code",
<<<<<<< HEAD
   "execution_count": 15,
=======
   "execution_count": 22,
>>>>>>> 9a8af5e76c85d3b4bf1736bbc1b8935f8641847b
   "metadata": {},
   "outputs": [],
   "source": [
    "test['expiry'] = pd.to_datetime(test.expiry)\n",
    "test['expiry'] = test['expiry'].apply(lambda x: x.strftime('%Y-%m-%d'))"
   ]
  },
  {
   "cell_type": "markdown",
   "metadata": {},
   "source": [
    "### Creating Schedule"
   ]
  },
  {
   "cell_type": "code",
<<<<<<< HEAD
   "execution_count": 16,
=======
   "execution_count": 23,
>>>>>>> 9a8af5e76c85d3b4bf1736bbc1b8935f8641847b
   "metadata": {},
   "outputs": [],
   "source": [
    "flight = pd.read_csv(\"flight.csv\")"
   ]
  },
  {
   "cell_type": "code",
<<<<<<< HEAD
   "execution_count": 17,
=======
   "execution_count": 24,
>>>>>>> 9a8af5e76c85d3b4bf1736bbc1b8935f8641847b
   "metadata": {},
   "outputs": [
    {
     "data": {
      "text/html": [
       "<div>\n",
       "<style scoped>\n",
       "    .dataframe tbody tr th:only-of-type {\n",
       "        vertical-align: middle;\n",
       "    }\n",
       "\n",
       "    .dataframe tbody tr th {\n",
       "        vertical-align: top;\n",
       "    }\n",
       "\n",
       "    .dataframe thead th {\n",
       "        text-align: right;\n",
       "    }\n",
       "</style>\n",
       "<table border=\"1\" class=\"dataframe\">\n",
       "  <thead>\n",
       "    <tr style=\"text-align: right;\">\n",
       "      <th></th>\n",
       "      <th>schedule_id</th>\n",
       "      <th>arrival_airport</th>\n",
       "      <th>arrival_datetime</th>\n",
       "      <th>depart_airport</th>\n",
       "      <th>depart_datetime</th>\n",
       "      <th>price</th>\n",
       "      <th>flight_id</th>\n",
       "      <th>manufacturer</th>\n",
       "      <th>model</th>\n",
       "      <th>capacity</th>\n",
       "    </tr>\n",
       "  </thead>\n",
       "  <tbody>\n",
       "    <tr>\n",
       "      <th>0</th>\n",
       "      <td>6931010700</td>\n",
       "      <td>Ukraine</td>\n",
       "      <td>6/28/2020</td>\n",
       "      <td>Sweden</td>\n",
       "      <td>9/22/2019</td>\n",
       "      <td>2083</td>\n",
       "      <td>JH4NA21615S154843</td>\n",
       "      <td>boeing</td>\n",
       "      <td>3</td>\n",
       "      <td>20</td>\n",
       "    </tr>\n",
       "    <tr>\n",
       "      <th>1</th>\n",
       "      <td>8959052388</td>\n",
       "      <td>China</td>\n",
       "      <td>7/1/2020</td>\n",
       "      <td>Indonesia</td>\n",
       "      <td>9/6/2019</td>\n",
       "      <td>2977</td>\n",
       "      <td>1G6DH5E58D0852309</td>\n",
       "      <td>airbus</td>\n",
       "      <td>3</td>\n",
       "      <td>20</td>\n",
       "    </tr>\n",
       "    <tr>\n",
       "      <th>2</th>\n",
       "      <td>8347380848</td>\n",
       "      <td>China</td>\n",
       "      <td>4/27/2020</td>\n",
       "      <td>Indonesia</td>\n",
       "      <td>10/27/2018</td>\n",
       "      <td>2538</td>\n",
       "      <td>3VW507AT0EM958189</td>\n",
       "      <td>airbus</td>\n",
       "      <td>1</td>\n",
       "      <td>20</td>\n",
       "    </tr>\n",
       "    <tr>\n",
       "      <th>3</th>\n",
       "      <td>1012056228</td>\n",
       "      <td>Indonesia</td>\n",
       "      <td>3/15/2020</td>\n",
       "      <td>Azerbaijan</td>\n",
       "      <td>2/5/2019</td>\n",
       "      <td>1103</td>\n",
       "      <td>WBASN0C52DD599576</td>\n",
       "      <td>airbus</td>\n",
       "      <td>2</td>\n",
       "      <td>20</td>\n",
       "    </tr>\n",
       "    <tr>\n",
       "      <th>4</th>\n",
       "      <td>857875906</td>\n",
       "      <td>Indonesia</td>\n",
       "      <td>3/11/2019</td>\n",
       "      <td>Russia</td>\n",
       "      <td>11/28/2018</td>\n",
       "      <td>2437</td>\n",
       "      <td>1C4RDJEG0DC687380</td>\n",
       "      <td>airbus</td>\n",
       "      <td>1</td>\n",
       "      <td>20</td>\n",
       "    </tr>\n",
       "  </tbody>\n",
       "</table>\n",
       "</div>"
      ],
      "text/plain": [
       "   schedule_id arrival_airport arrival_datetime depart_airport  \\\n",
       "0   6931010700         Ukraine        6/28/2020         Sweden   \n",
       "1   8959052388           China         7/1/2020      Indonesia   \n",
       "2   8347380848           China        4/27/2020      Indonesia   \n",
       "3   1012056228       Indonesia        3/15/2020     Azerbaijan   \n",
       "4    857875906       Indonesia        3/11/2019         Russia   \n",
       "\n",
       "  depart_datetime  price          flight_id manufacturer  model  capacity  \n",
       "0       9/22/2019   2083  JH4NA21615S154843       boeing      3        20  \n",
       "1        9/6/2019   2977  1G6DH5E58D0852309       airbus      3        20  \n",
       "2      10/27/2018   2538  3VW507AT0EM958189       airbus      1        20  \n",
       "3        2/5/2019   1103  WBASN0C52DD599576       airbus      2        20  \n",
       "4      11/28/2018   2437  1C4RDJEG0DC687380       airbus      1        20  "
      ]
     },
<<<<<<< HEAD
     "execution_count": 17,
=======
     "execution_count": 24,
>>>>>>> 9a8af5e76c85d3b4bf1736bbc1b8935f8641847b
     "metadata": {},
     "output_type": "execute_result"
    }
   ],
   "source": [
    "flight.drop_duplicates(subset=['schedule_id', 'arrival_airport', 'arrival_datetime', 'depart_airport', 'depart_datetime']).head()"
   ]
  },
  {
   "cell_type": "code",
<<<<<<< HEAD
   "execution_count": 18,
=======
   "execution_count": 25,
>>>>>>> 9a8af5e76c85d3b4bf1736bbc1b8935f8641847b
   "metadata": {},
   "outputs": [],
   "source": [
    "flight['arrival_datetime'] = pd.to_datetime(flight.arrival_datetime)\n",
    "flight['depart_datetime'] = pd.to_datetime(flight.depart_datetime)\n",
    "flight['arrival_datetime'] = flight['arrival_datetime'].apply(lambda x: x.strftime('%Y-%m-%d'))\n",
    "flight['depart_datetime'] = flight['depart_datetime'].apply(lambda x: x.strftime('%Y-%m-%d'))"
   ]
  },
  {
   "cell_type": "code",
<<<<<<< HEAD
   "execution_count": 19,
=======
   "execution_count": 26,
>>>>>>> 9a8af5e76c85d3b4bf1736bbc1b8935f8641847b
   "metadata": {},
   "outputs": [],
   "source": [
    "#creating string of 1A to 5D\n",
    "seats_col = ['a', 'b', 'c', 'd']\n",
    "seats_id = []\n",
    "\n",
    "for each in range(5):\n",
    "    for letter in seats_col:\n",
    "        seats_id.append(str(each + 1) + letter)"
   ]
  },
  {
   "cell_type": "markdown",
   "metadata": {},
   "source": [
    "## Processing table"
   ]
  },
  {
   "cell_type": "code",
<<<<<<< HEAD
   "execution_count": 20,
=======
   "execution_count": 27,
>>>>>>> 9a8af5e76c85d3b4bf1736bbc1b8935f8641847b
   "metadata": {},
   "outputs": [],
   "source": [
    "import query\n",
    "import mysql.connector\n",
    "\n",
    "cnx = mysql.connector.connect(user='root', password='',\n",
    "                              host='localhost',\n",
    "                              database='test')\n",
    "\n",
    "cursor = cnx.cursor()"
   ]
  },
  {
   "cell_type": "code",
<<<<<<< HEAD
   "execution_count": 21,
=======
   "execution_count": 28,
>>>>>>> 9a8af5e76c85d3b4bf1736bbc1b8935f8641847b
   "metadata": {},
   "outputs": [],
   "source": [
    "drop = query.drop_table\n",
    "create = query.create_table\n",
    "insert_membership = query.insert_membership_table\n",
    "insert_user = query.insert_user_table\n",
    "insert_schedule = query.insert_schedule_table\n",
    "insert_aircraft = query.insert_aircraft_table\n",
    "insert_flight = query.insert_flight_table\n",
    "insert_seat = query.insert_seat_table\n",
    "insert_flight_schedule = query.insert_flight_schedule_table\n",
    "insert_booking = query.insert_booking_table\n",
    "insert_availability_table = query.insert_availability_table "
   ]
  },
  {
   "cell_type": "code",
<<<<<<< HEAD
   "execution_count": 22,
=======
   "execution_count": 29,
>>>>>>> 9a8af5e76c85d3b4bf1736bbc1b8935f8641847b
   "metadata": {},
   "outputs": [],
   "source": [
    "cursor.execute(drop)\n",
    "\n",
    "for each in create:\n",
    "    cursor.execute(each)"
   ]
  },
  {
   "cell_type": "code",
<<<<<<< HEAD
   "execution_count": 23,
=======
   "execution_count": 30,
>>>>>>> 9a8af5e76c85d3b4bf1736bbc1b8935f8641847b
   "metadata": {},
   "outputs": [
    {
     "data": {
      "text/html": [
       "<div>\n",
       "<style scoped>\n",
       "    .dataframe tbody tr th:only-of-type {\n",
       "        vertical-align: middle;\n",
       "    }\n",
       "\n",
       "    .dataframe tbody tr th {\n",
       "        vertical-align: top;\n",
       "    }\n",
       "\n",
       "    .dataframe thead th {\n",
       "        text-align: right;\n",
       "    }\n",
       "</style>\n",
       "<table border=\"1\" class=\"dataframe\">\n",
       "  <thead>\n",
       "    <tr style=\"text-align: right;\">\n",
       "      <th></th>\n",
       "      <th>schedule_id</th>\n",
       "      <th>arrival_airport</th>\n",
       "      <th>arrival_datetime</th>\n",
       "      <th>depart_airport</th>\n",
       "      <th>depart_datetime</th>\n",
       "      <th>price</th>\n",
       "      <th>flight_id</th>\n",
       "      <th>manufacturer</th>\n",
       "      <th>model</th>\n",
       "      <th>capacity</th>\n",
       "    </tr>\n",
       "  </thead>\n",
       "  <tbody>\n",
       "    <tr>\n",
       "      <th>0</th>\n",
       "      <td>6931010700</td>\n",
       "      <td>Ukraine</td>\n",
       "      <td>2020-06-28</td>\n",
       "      <td>Sweden</td>\n",
       "      <td>2019-09-22</td>\n",
       "      <td>2083</td>\n",
       "      <td>JH4NA21615S154843</td>\n",
       "      <td>boeing</td>\n",
       "      <td>3</td>\n",
       "      <td>20</td>\n",
       "    </tr>\n",
       "    <tr>\n",
       "      <th>1</th>\n",
       "      <td>8959052388</td>\n",
       "      <td>China</td>\n",
       "      <td>2020-07-01</td>\n",
       "      <td>Indonesia</td>\n",
       "      <td>2019-09-06</td>\n",
       "      <td>2977</td>\n",
       "      <td>1G6DH5E58D0852309</td>\n",
       "      <td>airbus</td>\n",
       "      <td>3</td>\n",
       "      <td>20</td>\n",
       "    </tr>\n",
       "    <tr>\n",
       "      <th>2</th>\n",
       "      <td>8347380848</td>\n",
       "      <td>China</td>\n",
       "      <td>2020-04-27</td>\n",
       "      <td>Indonesia</td>\n",
       "      <td>2018-10-27</td>\n",
       "      <td>2538</td>\n",
       "      <td>3VW507AT0EM958189</td>\n",
       "      <td>airbus</td>\n",
       "      <td>1</td>\n",
       "      <td>20</td>\n",
       "    </tr>\n",
       "    <tr>\n",
       "      <th>3</th>\n",
       "      <td>1012056228</td>\n",
       "      <td>Indonesia</td>\n",
       "      <td>2020-03-15</td>\n",
       "      <td>Azerbaijan</td>\n",
       "      <td>2019-02-05</td>\n",
       "      <td>1103</td>\n",
       "      <td>WBASN0C52DD599576</td>\n",
       "      <td>airbus</td>\n",
       "      <td>2</td>\n",
       "      <td>20</td>\n",
       "    </tr>\n",
       "    <tr>\n",
       "      <th>4</th>\n",
       "      <td>857875906</td>\n",
       "      <td>Indonesia</td>\n",
       "      <td>2019-03-11</td>\n",
       "      <td>Russia</td>\n",
       "      <td>2018-11-28</td>\n",
       "      <td>2437</td>\n",
       "      <td>1C4RDJEG0DC687380</td>\n",
       "      <td>airbus</td>\n",
       "      <td>1</td>\n",
       "      <td>20</td>\n",
       "    </tr>\n",
       "  </tbody>\n",
       "</table>\n",
       "</div>"
      ],
      "text/plain": [
       "   schedule_id arrival_airport arrival_datetime depart_airport  \\\n",
       "0   6931010700         Ukraine       2020-06-28         Sweden   \n",
       "1   8959052388           China       2020-07-01      Indonesia   \n",
       "2   8347380848           China       2020-04-27      Indonesia   \n",
       "3   1012056228       Indonesia       2020-03-15     Azerbaijan   \n",
       "4    857875906       Indonesia       2019-03-11         Russia   \n",
       "\n",
       "  depart_datetime  price          flight_id manufacturer  model  capacity  \n",
       "0      2019-09-22   2083  JH4NA21615S154843       boeing      3        20  \n",
       "1      2019-09-06   2977  1G6DH5E58D0852309       airbus      3        20  \n",
       "2      2018-10-27   2538  3VW507AT0EM958189       airbus      1        20  \n",
       "3      2019-02-05   1103  WBASN0C52DD599576       airbus      2        20  \n",
       "4      2018-11-28   2437  1C4RDJEG0DC687380       airbus      1        20  "
      ]
     },
<<<<<<< HEAD
     "execution_count": 23,
=======
     "execution_count": 30,
>>>>>>> 9a8af5e76c85d3b4bf1736bbc1b8935f8641847b
     "metadata": {},
     "output_type": "execute_result"
    }
   ],
   "source": [
    "flight.head()"
   ]
  },
  {
   "cell_type": "code",
<<<<<<< HEAD
   "execution_count": 24,
=======
   "execution_count": 31,
>>>>>>> 9a8af5e76c85d3b4bf1736bbc1b8935f8641847b
   "metadata": {},
   "outputs": [
    {
     "data": {
      "text/plain": [
       "['schedule_id',\n",
       " 'arrival_airport',\n",
       " 'arrival_datetime',\n",
       " 'depart_airport',\n",
       " 'depart_datetime',\n",
       " 'price',\n",
       " 'flight_id',\n",
       " 'manufacturer',\n",
       " 'model',\n",
       " 'capacity']"
      ]
     },
<<<<<<< HEAD
     "execution_count": 24,
=======
     "execution_count": 31,
>>>>>>> 9a8af5e76c85d3b4bf1736bbc1b8935f8641847b
     "metadata": {},
     "output_type": "execute_result"
    }
   ],
   "source": [
    "list(flight)"
   ]
  },
  {
   "cell_type": "code",
<<<<<<< HEAD
   "execution_count": 25,
=======
   "execution_count": 32,
>>>>>>> 9a8af5e76c85d3b4bf1736bbc1b8935f8641847b
   "metadata": {},
   "outputs": [],
   "source": [
    "#insert membership values \n",
    "for row,each in test[['membership_id', 'points', 'points_redeemed', 'expiry', 'tier']].iterrows():\n",
    "    cursor.execute(insert_membership,tuple(each.values))\n",
    "    cnx.commit()\n",
    "       \n",
    "#insert user values\n",
    "for row,each in test[['nric_id', 'name', 'country', 'email', 'phone', 'type', 'password', 'membership_id']].iterrows():\n",
    "    cursor.execute(insert_user,tuple(each.values))\n",
    "    cnx.commit() \n",
    "    \n",
    "#insert scheudle values\n",
    "for row,each in flight[[\"schedule_id\", \"arrival_airport\", \"arrival_datetime\", \"depart_airport\", \"depart_datetime\", \"price\"]].iterrows():\n",
    "    cursor.execute(insert_schedule,tuple(each.values))\n",
    "    cnx.commit() "
   ]
  },
  {
   "cell_type": "code",
<<<<<<< HEAD
   "execution_count": 26,
=======
   "execution_count": 33,
>>>>>>> 9a8af5e76c85d3b4bf1736bbc1b8935f8641847b
   "metadata": {},
   "outputs": [],
   "source": [
    "# data in the form of list of tuples \n",
    "aircraft_tuple = [(1, 1, 'boeing', 20), (2, 2, 'boeing', 20), (3, 3, 'boeing', 20), (4, 1, 'airbus', 20), (5, 2, 'airbus', 20), (6, 3, 'airbus', 20)]\n",
    "\n",
    "df_aircraft = pd.DataFrame(aircraft_tuple, columns =['aircraft_id', 'model', 'manufacturer' ,'capacity']) "
   ]
  },
  {
   "cell_type": "code",
<<<<<<< HEAD
   "execution_count": 27,
=======
   "execution_count": 34,
>>>>>>> 9a8af5e76c85d3b4bf1736bbc1b8935f8641847b
   "metadata": {},
   "outputs": [],
   "source": [
    "new_df = pd.merge(flight, df_aircraft,  how='left', left_on=['manufacturer','model'], right_on = ['manufacturer','model'])"
   ]
  },
  {
   "cell_type": "code",
<<<<<<< HEAD
   "execution_count": 28,
=======
   "execution_count": 35,
>>>>>>> 9a8af5e76c85d3b4bf1736bbc1b8935f8641847b
   "metadata": {},
   "outputs": [],
   "source": [
    "#insert aircraft\n",
    "to_be_inserted = [(1, 1, 'boeing', 20), (2, 2, 'boeing', 20), (3, 3, 'boeing', 20), (4, 1, 'airbus', 20), (5, 2, 'airbus', 20), (6, 3, 'airbus', 20)]\n",
    "for each in to_be_inserted:\n",
    "    cursor.execute(insert_aircraft, each)\n",
    "    cnx.commit() \n",
    "    \n",
    "#insert flight\n",
    "for row,each in new_df[[\"flight_id\", \"aircraft_id\"]].iterrows():\n",
    "    cursor.execute(insert_flight,tuple(each.values))\n",
    "    cnx.commit()"
   ]
  },
  {
   "cell_type": "code",
<<<<<<< HEAD
   "execution_count": null,
   "metadata": {},
   "outputs": [],
   "source": []
  },
  {
   "cell_type": "code",
   "execution_count": 29,
=======
   "execution_count": 36,
>>>>>>> 9a8af5e76c85d3b4bf1736bbc1b8935f8641847b
   "metadata": {},
   "outputs": [],
   "source": [
    "#insert seat\n",
    "for each_flight in flight['flight_id'].unique():\n",
    "    for each_seat in seats_id:\n",
    "        travel_class = \"economy\"\n",
    "        if each_seat[1] == 'c':\n",
    "            travel_class = \"business\"\n",
    "        insert = (each_seat, travel_class, each_flight)\n",
    "        cursor.execute(insert_seat, insert)\n",
    "        cnx.commit()"
   ]
  },
  {
   "cell_type": "code",
<<<<<<< HEAD
   "execution_count": 30,
=======
   "execution_count": 37,
>>>>>>> 9a8af5e76c85d3b4bf1736bbc1b8935f8641847b
   "metadata": {},
   "outputs": [
    {
     "data": {
      "text/plain": [
       "1000"
      ]
     },
<<<<<<< HEAD
     "execution_count": 30,
=======
     "execution_count": 37,
>>>>>>> 9a8af5e76c85d3b4bf1736bbc1b8935f8641847b
     "metadata": {},
     "output_type": "execute_result"
    }
   ],
   "source": [
    "len(flight['schedule_id'].unique())"
   ]
  },
  {
   "cell_type": "code",
<<<<<<< HEAD
   "execution_count": 31,
=======
   "execution_count": 38,
>>>>>>> 9a8af5e76c85d3b4bf1736bbc1b8935f8641847b
   "metadata": {},
   "outputs": [],
   "source": [
    "import random\n",
    "\n",
    "#insert for flight_schedule\n",
    "\n",
    "for each in range(1000):\n",
    "    insert = (str(each), str(flight['schedule_id'].unique()[random.randint(0, 999)]), flight['flight_id'].unique()[random.randint(0, 999)])\n",
    "    cursor.execute(insert_flight_schedule, insert)\n",
    "    cnx.commit()"
   ]
  },
  {
   "cell_type": "code",
<<<<<<< HEAD
   "execution_count": 32,
=======
   "execution_count": 39,
>>>>>>> 9a8af5e76c85d3b4bf1736bbc1b8935f8641847b
   "metadata": {},
   "outputs": [],
   "source": [
    "#insert booking\n",
    "\n",
    "for each in range(1000):\n",
    "    insert = (str(each), str(test['nric_id'].unique()[random.randint(0, 999)]), str(random.randint(0, 999)))\n",
    "    cursor.execute(insert_booking, insert)\n",
    "    cnx.commit()"
   ]
  },
  {
   "cell_type": "code",
<<<<<<< HEAD
   "execution_count": 33,
=======
   "execution_count": 40,
>>>>>>> 9a8af5e76c85d3b4bf1736bbc1b8935f8641847b
   "metadata": {},
   "outputs": [],
   "source": [
    "# insert availability \n",
    "boolean = True;\n",
    "for index in range(1000):\n",
    "    for each_seat in seats_id:\n",
    "        if random.randint(0,1) == 0:\n",
    "            boolean = False;\n",
    "        insert = (boolean, each_seat, index)\n",
    "        cursor.execute(insert_availability_table, insert)\n",
    "        cnx.commit()"
   ]
  },
  {
   "cell_type": "code",
   "execution_count": null,
   "metadata": {},
   "outputs": [],
   "source": []
  }
 ],
 "metadata": {
  "kernelspec": {
   "display_name": "Python 3",
   "language": "python",
   "name": "python3"
  },
  "language_info": {
   "codemirror_mode": {
    "name": "ipython",
    "version": 3
   },
   "file_extension": ".py",
   "mimetype": "text/x-python",
   "name": "python",
   "nbconvert_exporter": "python",
   "pygments_lexer": "ipython3",
   "version": "3.6.4"
  }
 },
 "nbformat": 4,
 "nbformat_minor": 2
}
